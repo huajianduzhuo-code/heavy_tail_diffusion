{
 "cells": [
  {
   "cell_type": "code",
   "execution_count": 1,
   "metadata": {},
   "outputs": [],
   "source": [
    "### Simulation of an arrival process with arrival rate lambda(t), 0<t<T\n",
    "import numpy as np\n",
    "import matplotlib.pyplot as plt\n",
    "from scipy.stats import kurtosis\n",
    "from tqdm import tqdm\n",
    "import pickle\n",
    "import pandas as pd\n",
    "import random"
   ]
  },
  {
   "cell_type": "code",
   "execution_count": 2,
   "metadata": {},
   "outputs": [],
   "source": [
    "file_path = 'HS300_security.pkl'\n",
    "\n",
    "# Open the file in binary read mode\n",
    "with open(file_path, 'rb') as file:\n",
    "    data = pickle.load(file)\n"
   ]
  },
  {
   "cell_type": "code",
   "execution_count": 4,
   "metadata": {},
   "outputs": [],
   "source": [
    "random.seed(1)\n",
    "close_price_pivot = data.pivot(index='date', columns='code', values='close').dropna(axis=1).astype(float)\n",
    "\n",
    "num_columns_to_select = 20\n",
    "\n",
    "# Randomly select 20 columns\n",
    "selected_columns = close_price_pivot.sample(n=num_columns_to_select, axis=1, random_state=42)\n",
    "close_price_pivot = close_price_pivot[selected_columns.columns]\n"
   ]
  },
  {
   "cell_type": "code",
   "execution_count": 5,
   "metadata": {},
   "outputs": [],
   "source": [
    "ctc_return = ((close_price_pivot/close_price_pivot.shift(1)-1)*100).dropna()\n",
    "last_close = close_price_pivot.shift(1).dropna()\n",
    "\n",
    "row_sums = last_close.to_numpy().sum(axis=1, keepdims=True)\n",
    "last_close_weights = last_close / row_sums"
   ]
  },
  {
   "cell_type": "code",
   "execution_count": 6,
   "metadata": {},
   "outputs": [],
   "source": [
    "random.seed(1)\n",
    "selected_indices = random.sample(ctc_return.index.tolist(), 1200)\n",
    "ctc_return_training = ctc_return.loc[selected_indices]\n",
    "last_close_weights_training = last_close_weights.loc[selected_indices]\n",
    "ctc_return_testing = ctc_return.drop(selected_indices)\n",
    "last_close_weights_testing = last_close_weights.drop(selected_indices)\n",
    "last_close_testing = last_close.drop(selected_indices)\n",
    "\n",
    "# convert to numpy array\n",
    "\n",
    "training_array = ctc_return_training.to_numpy()\n",
    "training_array = training_array.reshape(training_array.shape[0], 1, training_array.shape[1])\n",
    "testing_array = ctc_return_testing.to_numpy()\n",
    "testing_array = testing_array.reshape(testing_array.shape[0], 1, testing_array.shape[1])\n",
    "last_close_testing_array = last_close_testing.to_numpy()\n",
    "# last_close_testing_array = last_close_testing_array.reshape(last_close_testing_array.shape[0], 1, last_close_testing_array.shape[1])"
   ]
  },
  {
   "cell_type": "code",
   "execution_count": 7,
   "metadata": {},
   "outputs": [],
   "source": [
    "np.save(f'stock_data_train_{num_columns_to_select}.npy', training_array)\n",
    "np.save(f'stock_data_test_{num_columns_to_select}.npy', testing_array)\n",
    "np.save(f'last_close_test_{num_columns_to_select}.npy', last_close_testing_array)"
   ]
  }
 ],
 "metadata": {
  "kernelspec": {
   "display_name": "time_series",
   "language": "python",
   "name": "python3"
  },
  "language_info": {
   "codemirror_mode": {
    "name": "ipython",
    "version": 3
   },
   "file_extension": ".py",
   "mimetype": "text/x-python",
   "name": "python",
   "nbconvert_exporter": "python",
   "pygments_lexer": "ipython3",
   "version": "3.1.undefined"
  }
 },
 "nbformat": 4,
 "nbformat_minor": 2
}
