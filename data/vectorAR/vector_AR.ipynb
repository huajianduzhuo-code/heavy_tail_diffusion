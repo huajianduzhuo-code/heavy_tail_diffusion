{
 "cells": [
  {
   "cell_type": "code",
   "execution_count": 1,
   "metadata": {},
   "outputs": [],
   "source": [
    "### Simulation of an arrival process wiU arrival rate lambda(t), 0<t<T\n",
    "import math\n",
    "import numpy as np\n",
    "import matplotlib.pyplot as plt\n",
    "from scipy.stats import kurtosis\n",
    "from tqdm import tqdm\n",
    "import pickle\n",
    "import torch\n",
    "from torch.distributions.exponential import Exponential\n",
    "import pandas as pd\n",
    "import random\n",
    "import seaborn"
   ]
  },
  {
   "cell_type": "code",
   "execution_count": 2,
   "metadata": {},
   "outputs": [],
   "source": [
    "def pareto_minus_1_cdf(x, a):\n",
    "    return 1-(x+1)**(-a)\n",
    "\n",
    "def inverse_pareto_minus_1_cdf(x, a):\n",
    "    return (1-x)**(-1/a)-1\n",
    "\n",
    "def sample_symmetric_pareto(a, shape):\n",
    "    uniform_samples = np.random.uniform(0,1,shape)\n",
    "    pareto_samples = inverse_pareto_minus_1_cdf(uniform_samples, a)\n",
    "    bernoulli_mult = np.random.choice([-1, 1], size=shape)\n",
    "    symmetric_pareto_samples = pareto_samples*bernoulli_mult\n",
    "    return symmetric_pareto_samples"
   ]
  },
  {
   "cell_type": "code",
   "execution_count": 3,
   "metadata": {},
   "outputs": [],
   "source": [
    "def VAR_pareto(phi_matrix_list, alpha=2, size = 10000, burn = 1000):\n",
    "    # Generate stationary time series data\n",
    "    p = len(phi_matrix_list)\n",
    "    y = np.zeros((size+burn, p))\n",
    "    \n",
    "    # Simulate the VAR process\n",
    "    for t in range(p, size+burn):\n",
    "        for dim in range(p):\n",
    "            y[t] = y[t] + phi_matrix_list[dim] @ y[t-1-dim]\n",
    "        noise = sample_symmetric_pareto(alpha, (p))\n",
    "        y[t] = y[t] + noise\n",
    "    return y[-size:]\n",
    "\n",
    "\n",
    "def VAR_pareto_cond(conditions, phi_matrix_list, alpha=2, obs = 10000, sample_total_len = 10):\n",
    "    # Generate stationary time series data\n",
    "    p = len(phi_matrix_list)\n",
    "    assert p==conditions.shape[1]\n",
    "    y = np.zeros((obs, sample_total_len, p))\n",
    "    copied_conditions = np.repeat(conditions[np.newaxis, :, :], obs, axis=0)\n",
    "    y[:,:len(conditions),:] = copied_conditions\n",
    "\n",
    "    # Simulate the VAR process\n",
    "    for i in range(obs):\n",
    "        for t in range(conditions.shape[0], sample_total_len):\n",
    "            for dim in range(p):\n",
    "                if t-1-dim<0:\n",
    "                    break\n",
    "                y[i,t,:] = y[i,t,:] + phi_matrix_list[dim] @ y[i,t-1-dim,:]\n",
    "            noise = sample_symmetric_pareto(alpha, (p))\n",
    "            y[i,t,:] = y[i,t,:] + noise\n",
    "    return y\n"
   ]
  },
  {
   "cell_type": "code",
   "execution_count": 4,
   "metadata": {},
   "outputs": [
    {
     "name": "stdout",
     "output_type": "stream",
     "text": [
      "Eigenvalues of the companion matrix: [ 0.94950619+0.j         -0.90078321+0.j          0.13481259+0.57096677j\n",
      "  0.13481259-0.57096677j -0.08354563+0.2326175j  -0.08354563-0.2326175j\n",
      " -0.1926829 +0.j          0.24665492+0.j          0.09477109+0.j        ]\n",
      "The process is stationary.\n"
     ]
    }
   ],
   "source": [
    "# matrix\n",
    "A1 = np.array([[0.7, -0.1, 0.3],\n",
    "               [-0.1, 0.4, 0.1],\n",
    "               [0.3, 0.1, -0.8]])\n",
    "\n",
    "A2 = np.array([[0.1, 0.05, 0.05],\n",
    "               [0.05, -0.4, 0.05],\n",
    "               [0.05, 0.05, 0.1]])\n",
    "\n",
    "A3 = np.array([[0.05, 0.02, 0.02],\n",
    "               [0.02, 0.05, 0.02],\n",
    "               [0.02, 0.02, 0.05]])\n",
    "\n",
    "from numpy.linalg import eig\n",
    "companion_matrix = np.block([\n",
    "    [A1, A2, A3],\n",
    "    [np.eye(3), np.zeros((3, 6))],\n",
    "    [np.zeros((3, 3)), np.eye(3), np.zeros((3, 3))]\n",
    "])\n",
    "\n",
    "# Check the eigenvalues of the companion matrix\n",
    "eigenvalues = eig(companion_matrix)[0]\n",
    "print(\"Eigenvalues of the companion matrix:\", eigenvalues)\n",
    "\n",
    "# Ensure the eigenvalues are less than 1 in magnitude\n",
    "if all(np.abs(eigenvalues) < 1):\n",
    "    print(\"The process is stationary.\")\n",
    "else:\n",
    "    print(\"The process is not stationary.\")\n",
    "\n",
    "alpha = 3.0"
   ]
  },
  {
   "cell_type": "code",
   "execution_count": 5,
   "metadata": {},
   "outputs": [],
   "source": [
    "# unconditional generation\n",
    "np.random.seed(1)\n",
    "num_obs = 100000\n",
    "sample_length = 10\n",
    "dim = 3\n",
    "long_path = VAR_pareto([A1,A2,A3], alpha = alpha, size=num_obs+sample_length, burn=1000)\n",
    "# split into samples:\n",
    "unconditional_samples = np.zeros((num_obs,sample_length,dim))\n",
    "for i in range(num_obs):\n",
    "    unconditional_samples[i] = long_path[i:i+sample_length,:]"
   ]
  },
  {
   "cell_type": "code",
   "execution_count": 6,
   "metadata": {},
   "outputs": [],
   "source": [
    "# conditional generation\n",
    "np.random.seed(1)\n",
    "conditional_dim = 5\n",
    "conditions = VAR_pareto([A1,A2,A3], alpha = alpha, size=conditional_dim, burn=2000)\n",
    "conditional_samples = VAR_pareto_cond(conditions, [A1,A2,A3], alpha = alpha, obs=10000, sample_total_len=10)"
   ]
  },
  {
   "cell_type": "code",
   "execution_count": 7,
   "metadata": {},
   "outputs": [],
   "source": [
    "np.save(\"var_pareto_unconditional.npy\", unconditional_samples)\n",
    "np.save(\"var_pareto_conditional.npy\", conditional_samples)"
   ]
  }
 ],
 "metadata": {
  "kernelspec": {
   "display_name": "time_series",
   "language": "python",
   "name": "python3"
  },
  "language_info": {
   "codemirror_mode": {
    "name": "ipython",
    "version": 3
   },
   "file_extension": ".py",
   "mimetype": "text/x-python",
   "name": "python",
   "nbconvert_exporter": "python",
   "pygments_lexer": "ipython3",
   "version": "3.10.13"
  }
 },
 "nbformat": 4,
 "nbformat_minor": 2
}
