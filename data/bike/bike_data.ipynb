{
 "cells": [
  {
   "cell_type": "code",
   "execution_count": 1,
   "metadata": {},
   "outputs": [],
   "source": [
    "import numpy as np\n",
    "import datetime as dt\n",
    "import pandas as pd\n",
    "import matplotlib.pyplot as plt\n",
    "from scipy.stats import gaussian_kde\n",
    "import seaborn"
   ]
  },
  {
   "cell_type": "code",
   "execution_count": 2,
   "metadata": {},
   "outputs": [],
   "source": [
    "train_set = pd.read_csv(\"train.csv\")\n",
    "test_set = pd.read_csv(\"test.csv\")\n",
    "combined_set = pd.concat([train_set,test_set],axis=0)\n",
    "combined_set = combined_set.dropna()\n",
    "combined_set['datetime'] = pd.to_datetime(combined_set['datetime'])\n",
    "combined_set = combined_set.sort_values(by='datetime', ascending=True)\n",
    "\n",
    "combined_set['date'] = combined_set[\"datetime\"].dt.date\n",
    "combined_set['time'] = combined_set[\"datetime\"].dt.time\n",
    "# combined_set['Time'] = combined_set.index.time"
   ]
  },
  {
   "cell_type": "code",
   "execution_count": 3,
   "metadata": {},
   "outputs": [],
   "source": [
    "pivot = combined_set.pivot(index='date', columns='time', values='count').dropna()\n",
    "pivot.to_csv(\"pivot_data.csv\")\n",
    "array_2d = np.array(pivot).reshape(-1,24,1)"
   ]
  },
  {
   "cell_type": "code",
   "execution_count": 6,
   "metadata": {},
   "outputs": [],
   "source": [
    "random_indices = np.random.choice(array_2d.shape[0], 400, replace=False)\n",
    "uncond_data = array_2d[random_indices, :, :]\n"
   ]
  },
  {
   "cell_type": "code",
   "execution_count": 9,
   "metadata": {},
   "outputs": [],
   "source": [
    "mask = np.zeros(array_2d.shape[0], dtype=bool)\n",
    "mask[random_indices] = True\n",
    "uncond_data = array_2d[mask]\n",
    "remaining_data = array_2d[~mask]"
   ]
  },
  {
   "cell_type": "code",
   "execution_count": 10,
   "metadata": {},
   "outputs": [],
   "source": [
    "\n",
    "cond_list = []\n",
    "for i in remaining_data:\n",
    "    cond_list.append(np.tile(i, (1000, 1, 1)))\n",
    "cond_data = np.concatenate(cond_list,axis=0)"
   ]
  },
  {
   "cell_type": "code",
   "execution_count": 12,
   "metadata": {},
   "outputs": [],
   "source": [
    "np.save(\"bike_data_set.npy\",uncond_data)\n",
    "np.save(\"bike_data_set_conditional.npy\",cond_data)"
   ]
  }
 ],
 "metadata": {
  "kernelspec": {
   "display_name": "time_series",
   "language": "python",
   "name": "python3"
  },
  "language_info": {
   "codemirror_mode": {
    "name": "ipython",
    "version": 3
   },
   "file_extension": ".py",
   "mimetype": "text/x-python",
   "name": "python",
   "nbconvert_exporter": "python",
   "pygments_lexer": "ipython3",
   "version": "3.10.13"
  }
 },
 "nbformat": 4,
 "nbformat_minor": 2
}
