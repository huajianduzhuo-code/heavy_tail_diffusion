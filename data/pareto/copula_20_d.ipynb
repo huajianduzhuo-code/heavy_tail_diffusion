{
 "cells": [
  {
   "cell_type": "code",
   "execution_count": 1,
   "metadata": {},
   "outputs": [],
   "source": [
    "### Simulation of an arrival process with arrival rate lambda(t), 0<t<T\n",
    "import numpy as np\n",
    "import seaborn\n",
    "import matplotlib.pyplot as plt\n",
    "from scipy.stats import kurtosis, multivariate_normal, norm\n",
    "import seaborn"
   ]
  },
  {
   "cell_type": "markdown",
   "metadata": {},
   "source": [
    "## unconditional samples"
   ]
  },
  {
   "cell_type": "code",
   "execution_count": 2,
   "metadata": {},
   "outputs": [],
   "source": [
    "import numpy as np\n",
    "\n",
    "def is_positive_semidefinite(matrix):\n",
    "    # Eigenvalue method\n",
    "    eigenvalues = np.linalg.eigvals(matrix)\n",
    "    if np.all(eigenvalues >= -1e-10):  # Allowing a small numerical tolerance\n",
    "        eigenvalue_method = True\n",
    "    else:\n",
    "        eigenvalue_method = False\n",
    "\n",
    "    # Cholesky decomposition method\n",
    "    try:\n",
    "        np.linalg.cholesky(matrix)\n",
    "        cholesky_method = True\n",
    "    except np.linalg.LinAlgError:\n",
    "        cholesky_method = False\n",
    "\n",
    "    return eigenvalue_method, cholesky_method"
   ]
  },
  {
   "cell_type": "code",
   "execution_count": null,
   "metadata": {},
   "outputs": [
    {
     "name": "stdout",
     "output_type": "stream",
     "text": [
      "Shape of the covariance matrix: (20, 20)\n"
     ]
    }
   ],
   "source": [
    "#################### create a positive semidefinite matrix with diagnol being ones #####################\n",
    "dim = 20\n",
    "# Step 1: Create a random matrix\n",
    "A = np.random.rand(dim, dim)*2-1\n",
    "\n",
    "# Step 2: Make the matrix symmetric\n",
    "A = 0.5 * (A + A.T)\n",
    "\n",
    "# Step 3: Ensure positive semi-definiteness\n",
    "cov_matrix = np.dot(A, A.T)\n",
    "\n",
    "# Check the shape\n",
    "print(\"Shape of the covariance matrix:\", cov_matrix.shape)\n",
    "\n",
    "std_dev = np.sqrt(np.diag(cov_matrix))"
   ]
  },
  {
   "cell_type": "code",
   "execution_count": 4,
   "metadata": {},
   "outputs": [
    {
     "data": {
      "text/plain": [
       "(20,)"
      ]
     },
     "execution_count": 4,
     "metadata": {},
     "output_type": "execute_result"
    }
   ],
   "source": [
    "std_dev.shape"
   ]
  },
  {
   "cell_type": "code",
   "execution_count": 5,
   "metadata": {},
   "outputs": [],
   "source": [
    "size = 100000\n",
    "\n",
    "# total_dimension = 6\n",
    "\n",
    "\n",
    "mu = np.array([0]*dim)\n",
    "sigma = np.around(cov_matrix / np.outer(std_dev, std_dev), 2)\n",
    "pareto_params = np.random.choice([6,7,8,9,10], dim)\n",
    "\n",
    "\n",
    "\n",
    "def pareto_minus_1_cdf(x, a):\n",
    "    return 1-(x+1)**(-a)\n",
    "\n",
    "def inverse_pareto_minus_1_cdf(x, a):\n",
    "    return (1-x)**(-1/a)-1\n",
    "\n",
    "\n",
    "# Vectorize the function\n",
    "pareto_minus_1_cdf_vectorized = np.vectorize(pareto_minus_1_cdf)\n",
    "inverse_pareto_minus_1_cdf_vectorized = np.vectorize(inverse_pareto_minus_1_cdf)"
   ]
  },
  {
   "cell_type": "code",
   "execution_count": 6,
   "metadata": {},
   "outputs": [
    {
     "data": {
      "text/plain": [
       "array([ 7,  6,  6,  8,  9, 10,  9,  9,  6, 10, 10,  9,  8, 10, 10,  9,  7,\n",
       "       10,  9,  7])"
      ]
     },
     "execution_count": 6,
     "metadata": {},
     "output_type": "execute_result"
    }
   ],
   "source": [
    "pareto_params"
   ]
  },
  {
   "cell_type": "code",
   "execution_count": 7,
   "metadata": {},
   "outputs": [
    {
     "data": {
      "text/plain": [
       "(True, True)"
      ]
     },
     "execution_count": 7,
     "metadata": {},
     "output_type": "execute_result"
    }
   ],
   "source": [
    "is_positive_semidefinite(sigma)"
   ]
  },
  {
   "cell_type": "code",
   "execution_count": 8,
   "metadata": {},
   "outputs": [],
   "source": [
    "unconditional_normal_sample = np.random.multivariate_normal(mu, sigma, size = size)\n",
    "unconditional_uniform_sample = norm.cdf(unconditional_normal_sample, loc=0, scale=1)\n",
    "unconditional_pareto_sample = inverse_pareto_minus_1_cdf_vectorized(unconditional_uniform_sample, np.array(pareto_params))"
   ]
  },
  {
   "cell_type": "code",
   "execution_count": 9,
   "metadata": {},
   "outputs": [
    {
     "data": {
      "text/plain": [
       "(array([9.0715e+04, 7.7540e+03, 1.1550e+03, 2.5800e+02, 8.1000e+01,\n",
       "        2.5000e+01, 7.0000e+00, 2.0000e+00, 1.0000e+00, 2.0000e+00]),\n",
       " array([5.19603555e-07, 4.05109516e-01, 8.10218512e-01, 1.21532751e+00,\n",
       "        1.62043651e+00, 2.02554550e+00, 2.43065450e+00, 2.83576349e+00,\n",
       "        3.24087249e+00, 3.64598149e+00, 4.05109048e+00]),\n",
       " <BarContainer object of 10 artists>)"
      ]
     },
     "execution_count": 9,
     "metadata": {},
     "output_type": "execute_result"
    },
    {
     "data": {
      "image/png": "[encoded data removed]",
      "text/plain": [
       "<Figure size 640x480 with 1 Axes>"
      ]
     },
     "metadata": {},
     "output_type": "display_data"
    }
   ],
   "source": [
    "plt.hist(unconditional_pareto_sample[:,0])"
   ]
  },
  {
   "cell_type": "code",
   "execution_count": 10,
   "metadata": {},
   "outputs": [
    {
     "name": "stdout",
     "output_type": "stream",
     "text": [
      "(100000, 2, 10)\n"
     ]
    }
   ],
   "source": [
    "## save data\n",
    "unconditional_pareto_sample = unconditional_pareto_sample.reshape(size,2,-1)\n",
    "print(unconditional_pareto_sample.shape)\n",
    "np.save(f'pareto_{dim}d_data.npy', unconditional_pareto_sample)"
   ]
  },
  {
   "cell_type": "markdown",
   "metadata": {},
   "source": [
    "## conditional samples"
   ]
  },
  {
   "cell_type": "code",
   "execution_count": 11,
   "metadata": {},
   "outputs": [],
   "source": [
    "size = 10000\n",
    "condition_dimension = int(dim/2)\n",
    "condition_value = np.mean(unconditional_pareto_sample,axis=(0))[0].round(2)+np.random.normal(0, 0.01, size = int(dim/2)).round(2)\n"
   ]
  },
  {
   "cell_type": "code",
   "execution_count": 12,
   "metadata": {},
   "outputs": [],
   "source": [
    "condition_value_uniform = pareto_minus_1_cdf_vectorized(condition_value, pareto_params[:condition_dimension])\n",
    "condition_value_normal = norm.ppf(condition_value_uniform)"
   ]
  },
  {
   "cell_type": "code",
   "execution_count": 13,
   "metadata": {},
   "outputs": [],
   "source": [
    "mu_1 = mu[:condition_dimension]\n",
    "mu_2 = mu[condition_dimension:]\n",
    "sigma_11 = sigma[:condition_dimension,:condition_dimension]\n",
    "sigma_12 = sigma[:condition_dimension,condition_dimension:]\n",
    "sigma_21 = sigma[condition_dimension:,:condition_dimension]\n",
    "sigma_22 = sigma[condition_dimension:,condition_dimension:]\n",
    "\n",
    "conditional_mu = mu_2 + np.dot(np.dot(sigma_21, np.linalg.inv(sigma_11)), condition_value_normal-mu_1)\n",
    "conditional_sigma = sigma_22 + np.dot(np.dot(sigma_21, np.linalg.inv(sigma_11)), sigma_12)"
   ]
  },
  {
   "cell_type": "code",
   "execution_count": 14,
   "metadata": {},
   "outputs": [],
   "source": [
    "conditional_normal_sample = np.random.multivariate_normal(conditional_mu, conditional_sigma, size = size)\n",
    "conditional_uniform_sample = norm.cdf(conditional_normal_sample, loc=0, scale=1)\n",
    "conditional_pareto_sample = inverse_pareto_minus_1_cdf_vectorized(conditional_uniform_sample, np.array(pareto_params[condition_dimension:]))\n",
    "\n",
    "# add the conditional dimensions at the beginning\n",
    "conditional_pareto_sample = np.concatenate((np.tile(condition_value, (size, 1)),conditional_pareto_sample), axis = 1)"
   ]
  },
  {
   "cell_type": "code",
   "execution_count": 15,
   "metadata": {},
   "outputs": [
    {
     "name": "stdout",
     "output_type": "stream",
     "text": [
      "(10000, 2, 10)\n"
     ]
    }
   ],
   "source": [
    "## save\n",
    "conditional_pareto_sample = conditional_pareto_sample.reshape(size,2,-1)\n",
    "print(conditional_pareto_sample.shape)\n",
    "np.save(f'pareto_{dim}d_data_conditional.npy', conditional_pareto_sample)"
   ]
  }
 ],
 "metadata": {
  "kernelspec": {
   "display_name": "SHD_journal",
   "language": "python",
   "name": "python3"
  },
  "language_info": {
   "codemirror_mode": {
    "name": "ipython",
    "version": 3
   },
   "file_extension": ".py",
   "mimetype": "text/x-python",
   "name": "python",
   "nbconvert_exporter": "python",
   "pygments_lexer": "ipython3",
   "version": "3.10.15"
  }
 },
 "nbformat": 4,
 "nbformat_minor": 2
}
